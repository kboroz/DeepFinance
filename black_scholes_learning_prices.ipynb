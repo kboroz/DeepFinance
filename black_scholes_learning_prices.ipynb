{
 "cells": [
  {
   "cell_type": "markdown",
   "id": "cec53fb4",
   "metadata": {},
   "source": [
    "# Black Scholes Model Deep Calibration - learning prices"
   ]
  },
  {
   "cell_type": "markdown",
   "id": "bb33e07b",
   "metadata": {},
   "source": [
    "In a first step the required libraries are imported."
   ]
  },
  {
   "cell_type": "code",
   "execution_count": 13,
   "id": "97d51ac0",
   "metadata": {},
   "outputs": [],
   "source": [
    "# Libraries laden\n",
    "import numpy as np\n",
    "from math import log, sqrt, exp\n",
    "from scipy import stats\n",
    "import pandas as pd\n",
    "import tensorflow as tf\n",
    "from tensorflow import keras\n",
    "from tensorflow.keras import layers\n",
    "import matplotlib.pyplot as plt"
   ]
  },
  {
   "cell_type": "markdown",
   "id": "4007a61e",
   "metadata": {},
   "source": [
    "## Data generation and preparation"
   ]
  },
  {
   "cell_type": "markdown",
   "id": "9fd33488",
   "metadata": {},
   "source": [
    "In the next cell a function similar to R's expand grid is defined which is then used to generate the synthetic data. After that some functions to calculate the option price based on the Black-Scholes formula and to calculate the implied volatility are defined. Functions for the option vega and the implied volatility were taken from https://aaronschlegel.me/implied-volatility-functions-python.html."
   ]
  },
  {
   "cell_type": "code",
   "execution_count": 14,
   "id": "fa8eea09",
   "metadata": {},
   "outputs": [],
   "source": [
    "# Function that equals R's expand_grid\n",
    "import itertools\n",
    "def expand_grid(data_dict):\n",
    "    rows = itertools.product(*data_dict.values())\n",
    "    return pd.DataFrame.from_records(rows, columns=data_dict.keys())"
   ]
  },
  {
   "cell_type": "code",
   "execution_count": 15,
   "id": "a5c36593",
   "metadata": {},
   "outputs": [],
   "source": [
    "# Generate synthetic data\n",
    "synthetic_data = expand_grid({\n",
    "    'stock_price': np.arange(40, 61),\n",
    "    'strike_price':np.arange(20, 90),\n",
    "    'maturity': np.arange(3/12, 2, step = 1/12),\n",
    "    'risk_free_rate':np.arange(0.01, 0.06, step = 0.01),\n",
    "    'sigma': np.arange(0.1, 0.9, step = 0.1)\n",
    "}\n",
    ")"
   ]
  },
  {
   "cell_type": "code",
   "execution_count": 16,
   "id": "aeaacba1",
   "metadata": {},
   "outputs": [],
   "source": [
    "# Black-Scholes Modell zur Berechnung der IV\n",
    "def bs_option_value(S0, K, T, r, sigma):\n",
    "    'Function to calculate the value of a call option based on the Black-Scholes formula'\n",
    "    'arguments:'\n",
    "    'S0: inital stock price'\n",
    "    'K: strike price'\n",
    "    'T: maturity'\n",
    "    'r: risk free rate (constant)'\n",
    "    'sigma: volatility'\n",
    "    'returns: option value'\n",
    "    #calculate d1 and d2\n",
    "    d1 = ((np.log(S0 / K) + (r + 0.5 * sigma ** 2) * T) / (sigma * np.sqrt(T)))\n",
    "    d2 = ((np.log(S0 / K) + (r - 0.5 * sigma ** 2) * T) / (sigma * np.sqrt(T)))\n",
    "    option_value = S0 * stats.norm.cdf(d1, 0.0, 1.0) - K * np.exp(-r * T) * stats.norm.cdf(d2, 0.0, 1.0)\n",
    "    return option_value"
   ]
  },
  {
   "cell_type": "code",
   "execution_count": 17,
   "id": "ce3dfe23",
   "metadata": {},
   "outputs": [
    {
     "data": {
      "text/plain": [
       "0.9999999988919036"
      ]
     },
     "execution_count": 17,
     "metadata": {},
     "output_type": "execute_result"
    }
   ],
   "source": [
    "# Testing the function\n",
    "bs_option_value(1,2,4,3,5)"
   ]
  },
  {
   "cell_type": "code",
   "execution_count": 18,
   "id": "a19b3a9f",
   "metadata": {},
   "outputs": [],
   "source": [
    "# calculate option vega\n",
    "def option_vega(S0, K, T, r, sigma):\n",
    "    'takes the same arguments as the function above'\n",
    "    'returns option vega'\n",
    "    d1 = ((np.log(S0 / K) + (r + 0.5 * sigma ** 2) * T) / (sigma * sqrt(T)))\n",
    "    vega = S0 * stats.norm.cdf(d1, 0.0, 1.0) * np.sqrt(T)\n",
    "    return vega"
   ]
  },
  {
   "cell_type": "code",
   "execution_count": 19,
   "id": "79d4df24",
   "metadata": {},
   "outputs": [
    {
     "data": {
      "text/plain": [
       "1.7320507924724615"
      ]
     },
     "execution_count": 19,
     "metadata": {},
     "output_type": "execute_result"
    }
   ],
   "source": [
    "# Testing the function\n",
    "option_vega(1,2,3,4,5)"
   ]
  },
  {
   "cell_type": "code",
   "execution_count": 20,
   "id": "6167275e",
   "metadata": {},
   "outputs": [],
   "source": [
    "# calculate implied volatility\n",
    "def implied_volatility(S0, K, T, C0, r, sigma):\n",
    "    'calculates the implied volatility'\n",
    "    'C0: call price'\n",
    "    'retunts implied volatility'\n",
    "    d1 = (np.log(S0 / K) + (r - 0.5 * sigma ** 2) * T) / (sigma * np.sqrt(T))\n",
    "    d2 = (np.log(S0 / K) + (r - 0.5 * sigma ** 2) * T) / (sigma * np.sqrt(T))\n",
    "    \n",
    "    fx = S0 * stats.norm.cdf(d1, 0.0, 1.0) - K * np.exp(-r * T) * stats.norm.cdf(d2, 0.0, 1.0) - C0\n",
    "    \n",
    "    vega = (1 / np.sqrt(2 * np.pi)) * S0 * np.sqrt(T) * np.exp(-(stats.norm.cdf(d1, 0.0, 1.0) ** 2) * 0.5)\n",
    "    # Warum hier andere Formal fuer vega?\n",
    "    \n",
    "    \n",
    "    tolerance = 0.000001\n",
    "    x0 = sigma\n",
    "    xnew  = x0\n",
    "    xold = x0 - 1\n",
    "        \n",
    "    while (abs(xnew - xold) > tolerance):\n",
    "        xold = xnew\n",
    "        xnew = (xnew - fx - C0) / vega\n",
    "        \n",
    "        return abs(xnew)\n",
    "# Source for the vega und iv functions: https://aaronschlegel.me/implied-volatility-functions-python.html"
   ]
  },
  {
   "cell_type": "code",
   "execution_count": 21,
   "id": "d122e405",
   "metadata": {},
   "outputs": [
    {
     "data": {
      "text/plain": [
       "8.683118302572918"
      ]
     },
     "execution_count": 21,
     "metadata": {},
     "output_type": "execute_result"
    }
   ],
   "source": [
    "# Testing the function\n",
    "implied_volatility(1,2,3,4,5,6)"
   ]
  },
  {
   "cell_type": "code",
   "execution_count": 22,
   "id": "d7cb3f4e",
   "metadata": {},
   "outputs": [],
   "source": [
    "synthetic_data['black_scholes'] = bs_option_value(synthetic_data['stock_price'], synthetic_data['strike_price'],\n",
    "                                               synthetic_data['maturity'], synthetic_data['risk_free_rate'],\n",
    "                                               synthetic_data['sigma'])"
   ]
  },
  {
   "cell_type": "code",
   "execution_count": 23,
   "id": "06ce9b66",
   "metadata": {},
   "outputs": [],
   "source": [
    "# Add some random noise to the real prices to create the option prices\n",
    "synthetic_data[\"option_price\"] = synthetic_data[\"black_scholes\"] + np.random.normal(1, 0.1)"
   ]
  },
  {
   "cell_type": "code",
   "execution_count": 25,
   "id": "4791d08e",
   "metadata": {},
   "outputs": [
    {
     "data": {
      "text/html": [
       "<div>\n",
       "<style scoped>\n",
       "    .dataframe tbody tr th:only-of-type {\n",
       "        vertical-align: middle;\n",
       "    }\n",
       "\n",
       "    .dataframe tbody tr th {\n",
       "        vertical-align: top;\n",
       "    }\n",
       "\n",
       "    .dataframe thead th {\n",
       "        text-align: right;\n",
       "    }\n",
       "</style>\n",
       "<table border=\"1\" class=\"dataframe\">\n",
       "  <thead>\n",
       "    <tr style=\"text-align: right;\">\n",
       "      <th></th>\n",
       "      <th>stock_price</th>\n",
       "      <th>strike_price</th>\n",
       "      <th>maturity</th>\n",
       "      <th>risk_free_rate</th>\n",
       "      <th>sigma</th>\n",
       "      <th>black_scholes</th>\n",
       "      <th>option_price</th>\n",
       "    </tr>\n",
       "  </thead>\n",
       "  <tbody>\n",
       "    <tr>\n",
       "      <th>1234795</th>\n",
       "      <td>60</td>\n",
       "      <td>89</td>\n",
       "      <td>1.916667</td>\n",
       "      <td>0.05</td>\n",
       "      <td>0.4</td>\n",
       "      <td>7.034793</td>\n",
       "      <td>8.013349</td>\n",
       "    </tr>\n",
       "    <tr>\n",
       "      <th>1234796</th>\n",
       "      <td>60</td>\n",
       "      <td>89</td>\n",
       "      <td>1.916667</td>\n",
       "      <td>0.05</td>\n",
       "      <td>0.5</td>\n",
       "      <td>10.297248</td>\n",
       "      <td>11.275804</td>\n",
       "    </tr>\n",
       "    <tr>\n",
       "      <th>1234797</th>\n",
       "      <td>60</td>\n",
       "      <td>89</td>\n",
       "      <td>1.916667</td>\n",
       "      <td>0.05</td>\n",
       "      <td>0.6</td>\n",
       "      <td>13.608121</td>\n",
       "      <td>14.586677</td>\n",
       "    </tr>\n",
       "    <tr>\n",
       "      <th>1234798</th>\n",
       "      <td>60</td>\n",
       "      <td>89</td>\n",
       "      <td>1.916667</td>\n",
       "      <td>0.05</td>\n",
       "      <td>0.7</td>\n",
       "      <td>16.897179</td>\n",
       "      <td>17.875735</td>\n",
       "    </tr>\n",
       "    <tr>\n",
       "      <th>1234799</th>\n",
       "      <td>60</td>\n",
       "      <td>89</td>\n",
       "      <td>1.916667</td>\n",
       "      <td>0.05</td>\n",
       "      <td>0.8</td>\n",
       "      <td>20.122101</td>\n",
       "      <td>21.100657</td>\n",
       "    </tr>\n",
       "  </tbody>\n",
       "</table>\n",
       "</div>"
      ],
      "text/plain": [
       "         stock_price  strike_price  maturity  risk_free_rate  sigma  \\\n",
       "1234795           60            89  1.916667            0.05    0.4   \n",
       "1234796           60            89  1.916667            0.05    0.5   \n",
       "1234797           60            89  1.916667            0.05    0.6   \n",
       "1234798           60            89  1.916667            0.05    0.7   \n",
       "1234799           60            89  1.916667            0.05    0.8   \n",
       "\n",
       "         black_scholes  option_price  \n",
       "1234795       7.034793      8.013349  \n",
       "1234796      10.297248     11.275804  \n",
       "1234797      13.608121     14.586677  \n",
       "1234798      16.897179     17.875735  \n",
       "1234799      20.122101     21.100657  "
      ]
     },
     "execution_count": 25,
     "metadata": {},
     "output_type": "execute_result"
    }
   ],
   "source": [
    "synthetic_data.tail()"
   ]
  },
  {
   "cell_type": "code",
   "execution_count": 26,
   "id": "8b738077",
   "metadata": {},
   "outputs": [],
   "source": [
    "# generate train and test set\n",
    "from sklearn.model_selection import train_test_split\n",
    "train, test = train_test_split(synthetic_data, test_size = 0.01,\n",
    "                                                   random_state = 42)"
   ]
  },
  {
   "cell_type": "code",
   "execution_count": 31,
   "id": "028bfbec",
   "metadata": {},
   "outputs": [],
   "source": [
    "# Dataframes with Xs and ys\n",
    "X_train = train.drop(['option_price', 'black_scholes'], axis = 1)\n",
    "X_test = test.drop(['option_price', 'black_scholes'], axis = 1)\n",
    "y_train = train['option_price']\n",
    "y_test = test['option_price']"
   ]
  },
  {
   "cell_type": "code",
   "execution_count": 32,
   "id": "3c61679a",
   "metadata": {},
   "outputs": [
    {
     "data": {
      "text/html": [
       "<div>\n",
       "<style scoped>\n",
       "    .dataframe tbody tr th:only-of-type {\n",
       "        vertical-align: middle;\n",
       "    }\n",
       "\n",
       "    .dataframe tbody tr th {\n",
       "        vertical-align: top;\n",
       "    }\n",
       "\n",
       "    .dataframe thead th {\n",
       "        text-align: right;\n",
       "    }\n",
       "</style>\n",
       "<table border=\"1\" class=\"dataframe\">\n",
       "  <thead>\n",
       "    <tr style=\"text-align: right;\">\n",
       "      <th></th>\n",
       "      <th>stock_price</th>\n",
       "      <th>strike_price</th>\n",
       "      <th>maturity</th>\n",
       "      <th>risk_free_rate</th>\n",
       "      <th>sigma</th>\n",
       "    </tr>\n",
       "  </thead>\n",
       "  <tbody>\n",
       "    <tr>\n",
       "      <th>483303</th>\n",
       "      <td>48</td>\n",
       "      <td>35</td>\n",
       "      <td>0.833333</td>\n",
       "      <td>0.03</td>\n",
       "      <td>0.8</td>\n",
       "    </tr>\n",
       "    <tr>\n",
       "      <th>992823</th>\n",
       "      <td>56</td>\n",
       "      <td>81</td>\n",
       "      <td>1.833333</td>\n",
       "      <td>0.03</td>\n",
       "      <td>0.8</td>\n",
       "    </tr>\n",
       "    <tr>\n",
       "      <th>523674</th>\n",
       "      <td>48</td>\n",
       "      <td>83</td>\n",
       "      <td>0.916667</td>\n",
       "      <td>0.05</td>\n",
       "      <td>0.3</td>\n",
       "    </tr>\n",
       "    <tr>\n",
       "      <th>456675</th>\n",
       "      <td>47</td>\n",
       "      <td>73</td>\n",
       "      <td>1.333333</td>\n",
       "      <td>0.05</td>\n",
       "      <td>0.4</td>\n",
       "    </tr>\n",
       "    <tr>\n",
       "      <th>160003</th>\n",
       "      <td>42</td>\n",
       "      <td>70</td>\n",
       "      <td>1.083333</td>\n",
       "      <td>0.01</td>\n",
       "      <td>0.4</td>\n",
       "    </tr>\n",
       "    <tr>\n",
       "      <th>...</th>\n",
       "      <td>...</td>\n",
       "      <td>...</td>\n",
       "      <td>...</td>\n",
       "      <td>...</td>\n",
       "      <td>...</td>\n",
       "    </tr>\n",
       "    <tr>\n",
       "      <th>110268</th>\n",
       "      <td>41</td>\n",
       "      <td>81</td>\n",
       "      <td>0.666667</td>\n",
       "      <td>0.04</td>\n",
       "      <td>0.5</td>\n",
       "    </tr>\n",
       "    <tr>\n",
       "      <th>259178</th>\n",
       "      <td>44</td>\n",
       "      <td>48</td>\n",
       "      <td>1.166667</td>\n",
       "      <td>0.03</td>\n",
       "      <td>0.3</td>\n",
       "    </tr>\n",
       "    <tr>\n",
       "      <th>131932</th>\n",
       "      <td>42</td>\n",
       "      <td>37</td>\n",
       "      <td>0.333333</td>\n",
       "      <td>0.02</td>\n",
       "      <td>0.5</td>\n",
       "    </tr>\n",
       "    <tr>\n",
       "      <th>671155</th>\n",
       "      <td>51</td>\n",
       "      <td>48</td>\n",
       "      <td>1.916667</td>\n",
       "      <td>0.05</td>\n",
       "      <td>0.4</td>\n",
       "    </tr>\n",
       "    <tr>\n",
       "      <th>121958</th>\n",
       "      <td>42</td>\n",
       "      <td>25</td>\n",
       "      <td>0.500000</td>\n",
       "      <td>0.05</td>\n",
       "      <td>0.7</td>\n",
       "    </tr>\n",
       "  </tbody>\n",
       "</table>\n",
       "<p>1222452 rows × 5 columns</p>\n",
       "</div>"
      ],
      "text/plain": [
       "        stock_price  strike_price  maturity  risk_free_rate  sigma\n",
       "483303           48            35  0.833333            0.03    0.8\n",
       "992823           56            81  1.833333            0.03    0.8\n",
       "523674           48            83  0.916667            0.05    0.3\n",
       "456675           47            73  1.333333            0.05    0.4\n",
       "160003           42            70  1.083333            0.01    0.4\n",
       "...             ...           ...       ...             ...    ...\n",
       "110268           41            81  0.666667            0.04    0.5\n",
       "259178           44            48  1.166667            0.03    0.3\n",
       "131932           42            37  0.333333            0.02    0.5\n",
       "671155           51            48  1.916667            0.05    0.4\n",
       "121958           42            25  0.500000            0.05    0.7\n",
       "\n",
       "[1222452 rows x 5 columns]"
      ]
     },
     "execution_count": 32,
     "metadata": {},
     "output_type": "execute_result"
    }
   ],
   "source": [
    "X_train"
   ]
  },
  {
   "cell_type": "code",
   "execution_count": 33,
   "id": "bc60d62e",
   "metadata": {},
   "outputs": [
    {
     "data": {
      "text/plain": [
       "(1222452, 5)"
      ]
     },
     "execution_count": 33,
     "metadata": {},
     "output_type": "execute_result"
    }
   ],
   "source": [
    "X_train.shape"
   ]
  },
  {
   "cell_type": "markdown",
   "id": "42014e1b",
   "metadata": {},
   "source": [
    "## Model generation"
   ]
  },
  {
   "cell_type": "code",
   "execution_count": 34,
   "id": "09d0a92b",
   "metadata": {},
   "outputs": [],
   "source": [
    "# build the neural net\n",
    "from keras.layers import Activation\n",
    "model = tf.keras.models.Sequential([\n",
    "    #tf.keras.layers.InputLayer(input_shape = (5,)), # Anzahl Features\n",
    "    tf.keras.layers.Dense(units = 200, activation = 'relu', input_shape = (5,)),\n",
    "    #tf.keras.layers.Dropout(rate = 0.25),\n",
    "    tf.keras.layers.Dense(units = 200, activation = 'relu'),\n",
    "    #tf.keras.layers.Dropout(rate = 0.25),\n",
    "    tf.keras.layers.Dense(units = 200, activation = 'relu'),\n",
    "    #tf.keras.layers.Dropout(rate = 0.25),\n",
    "    tf.keras.layers.Dense(units = 200, activation = 'relu'),\n",
    "    #tf.keras.layers.Dropout(rate = 0.25),\n",
    "    tf.keras.layers.Dense(units = 1, activation = 'linear')\n",
    "])\n",
    "model.compile(loss='mse',optimizer='adam')\n",
    "# Model configuration: The model architecture was chosen based on a literature review (e.g. Liu et al. (2019))."
   ]
  },
  {
   "cell_type": "code",
   "execution_count": 35,
   "id": "4513e0ec",
   "metadata": {
    "scrolled": true
   },
   "outputs": [
    {
     "name": "stdout",
     "output_type": "stream",
     "text": [
      "Model: \"sequential\"\n",
      "_________________________________________________________________\n",
      "Layer (type)                 Output Shape              Param #   \n",
      "=================================================================\n",
      "dense (Dense)                (None, 200)               1200      \n",
      "_________________________________________________________________\n",
      "dense_1 (Dense)              (None, 200)               40200     \n",
      "_________________________________________________________________\n",
      "dense_2 (Dense)              (None, 200)               40200     \n",
      "_________________________________________________________________\n",
      "dense_3 (Dense)              (None, 200)               40200     \n",
      "_________________________________________________________________\n",
      "dense_4 (Dense)              (None, 1)                 201       \n",
      "=================================================================\n",
      "Total params: 122,001\n",
      "Trainable params: 122,001\n",
      "Non-trainable params: 0\n",
      "_________________________________________________________________\n"
     ]
    }
   ],
   "source": [
    "model.summary()"
   ]
  },
  {
   "cell_type": "code",
   "execution_count": 36,
   "id": "69717cee",
   "metadata": {},
   "outputs": [],
   "source": [
    "from tensorflow.keras.callbacks import EarlyStopping\n",
    "callback = EarlyStopping(monitor='loss', patience=4) \n",
    "\n",
    "# https://blog.paperspace.com/tensorflow-callbacks/"
   ]
  },
  {
   "cell_type": "markdown",
   "id": "365aa4d0",
   "metadata": {},
   "source": [
    "## Model training"
   ]
  },
  {
   "cell_type": "code",
   "execution_count": 37,
   "id": "c2d24e2f",
   "metadata": {},
   "outputs": [
    {
     "name": "stdout",
     "output_type": "stream",
     "text": [
      "Epoch 1/1000\n",
      "1075/1075 [==============================] - 18s 16ms/step - loss: 5.2091 - val_loss: 0.9282\n",
      "Epoch 2/1000\n",
      "1075/1075 [==============================] - 17s 16ms/step - loss: 0.7996 - val_loss: 0.4469\n",
      "Epoch 3/1000\n",
      "1075/1075 [==============================] - 17s 16ms/step - loss: 0.4122 - val_loss: 0.3022\n",
      "Epoch 4/1000\n",
      "1075/1075 [==============================] - 17s 16ms/step - loss: 0.2229 - val_loss: 0.1011\n",
      "Epoch 5/1000\n",
      "1075/1075 [==============================] - 16s 15ms/step - loss: 0.1442 - val_loss: 0.3218\n",
      "Epoch 6/1000\n",
      "1075/1075 [==============================] - 17s 16ms/step - loss: 0.1604 - val_loss: 0.0841\n",
      "Epoch 7/1000\n",
      "1075/1075 [==============================] - 17s 16ms/step - loss: 0.1051 - val_loss: 0.2506\n",
      "Epoch 8/1000\n",
      "1075/1075 [==============================] - 17s 15ms/step - loss: 0.1106 - val_loss: 0.0187\n",
      "Epoch 9/1000\n",
      "1075/1075 [==============================] - 18s 16ms/step - loss: 0.0849 - val_loss: 0.0353\n",
      "Epoch 10/1000\n",
      "1075/1075 [==============================] - 17s 15ms/step - loss: 0.0876 - val_loss: 0.1044\n",
      "Epoch 11/1000\n",
      "1075/1075 [==============================] - 17s 16ms/step - loss: 0.0751 - val_loss: 0.0105\n",
      "Epoch 12/1000\n",
      "1075/1075 [==============================] - 17s 16ms/step - loss: 0.0524 - val_loss: 0.0142\n",
      "Epoch 13/1000\n",
      "1075/1075 [==============================] - 16s 15ms/step - loss: 0.0675 - val_loss: 0.0522\n",
      "Epoch 14/1000\n",
      "1075/1075 [==============================] - 16s 15ms/step - loss: 0.0522 - val_loss: 0.0077\n",
      "Epoch 15/1000\n",
      "1075/1075 [==============================] - 16s 15ms/step - loss: 0.0360 - val_loss: 0.0253\n",
      "Epoch 16/1000\n",
      "1075/1075 [==============================] - 16s 15ms/step - loss: 0.0404 - val_loss: 0.0509\n",
      "Epoch 17/1000\n",
      "1075/1075 [==============================] - 16s 15ms/step - loss: 0.0497 - val_loss: 0.0214\n",
      "Epoch 18/1000\n",
      "1075/1075 [==============================] - 17s 15ms/step - loss: 0.0367 - val_loss: 0.0049\n",
      "Epoch 19/1000\n",
      "1075/1075 [==============================] - 16s 15ms/step - loss: 0.0358 - val_loss: 0.0042\n",
      "Epoch 20/1000\n",
      "1075/1075 [==============================] - 17s 16ms/step - loss: 0.0251 - val_loss: 0.1313\n",
      "Epoch 21/1000\n",
      "1075/1075 [==============================] - 17s 16ms/step - loss: 0.0290 - val_loss: 0.0184\n",
      "Epoch 22/1000\n",
      "1075/1075 [==============================] - 17s 15ms/step - loss: 0.0342 - val_loss: 0.0758\n",
      "Epoch 23/1000\n",
      "1075/1075 [==============================] - 16s 15ms/step - loss: 0.0207 - val_loss: 0.0267\n",
      "Epoch 24/1000\n",
      "1075/1075 [==============================] - 17s 16ms/step - loss: 0.0263 - val_loss: 0.0020\n",
      "Epoch 25/1000\n",
      "1075/1075 [==============================] - 17s 15ms/step - loss: 0.0333 - val_loss: 0.0025\n",
      "Epoch 26/1000\n",
      "1075/1075 [==============================] - 17s 15ms/step - loss: 0.0206 - val_loss: 0.0017\n",
      "Epoch 27/1000\n",
      "1075/1075 [==============================] - 17s 15ms/step - loss: 0.0208 - val_loss: 0.0122\n",
      "Epoch 28/1000\n",
      "1075/1075 [==============================] - 17s 15ms/step - loss: 0.0210 - val_loss: 0.0457\n",
      "Epoch 29/1000\n",
      "1075/1075 [==============================] - 16s 15ms/step - loss: 0.0208 - val_loss: 0.0204\n",
      "Epoch 30/1000\n",
      "1075/1075 [==============================] - 16s 15ms/step - loss: 0.0182 - val_loss: 0.0169\n",
      "Epoch 31/1000\n",
      "1075/1075 [==============================] - 16s 15ms/step - loss: 0.0188 - val_loss: 0.0018\n",
      "Epoch 32/1000\n",
      "1075/1075 [==============================] - 16s 15ms/step - loss: 0.0193 - val_loss: 0.0036\n",
      "Epoch 33/1000\n",
      "1075/1075 [==============================] - 16s 15ms/step - loss: 0.0175 - val_loss: 0.0079\n",
      "Epoch 34/1000\n",
      "1075/1075 [==============================] - 16s 15ms/step - loss: 0.0177 - val_loss: 0.0026\n",
      "Epoch 35/1000\n",
      "1075/1075 [==============================] - 16s 15ms/step - loss: 0.0153 - val_loss: 0.1338\n",
      "Epoch 36/1000\n",
      "1075/1075 [==============================] - 16s 15ms/step - loss: 0.0158 - val_loss: 0.0063\n",
      "Epoch 37/1000\n",
      "1075/1075 [==============================] - 17s 16ms/step - loss: 0.0162 - val_loss: 0.0046\n",
      "Epoch 38/1000\n",
      "1075/1075 [==============================] - 17s 16ms/step - loss: 0.0151 - val_loss: 0.0082\n",
      "Epoch 39/1000\n",
      "1075/1075 [==============================] - 24s 23ms/step - loss: 0.0151 - val_loss: 0.0463\n",
      "Epoch 40/1000\n",
      "1075/1075 [==============================] - 23s 21ms/step - loss: 0.0138 - val_loss: 0.1362\n",
      "Epoch 41/1000\n",
      "1075/1075 [==============================] - 24s 23ms/step - loss: 0.0144 - val_loss: 0.0191\n",
      "Epoch 42/1000\n",
      "1075/1075 [==============================] - 24s 23ms/step - loss: 0.0123 - val_loss: 0.0038\n",
      "Epoch 43/1000\n",
      "1075/1075 [==============================] - 24s 23ms/step - loss: 0.0148 - val_loss: 0.0010\n",
      "Epoch 44/1000\n",
      "1075/1075 [==============================] - 23s 22ms/step - loss: 0.0122 - val_loss: 0.0042\n",
      "Epoch 45/1000\n",
      "1075/1075 [==============================] - 24s 22ms/step - loss: 0.0115 - val_loss: 0.0114\n",
      "Epoch 46/1000\n",
      "1075/1075 [==============================] - 24s 22ms/step - loss: 0.0120 - val_loss: 8.9966e-04\n",
      "Epoch 47/1000\n",
      "1075/1075 [==============================] - 23s 22ms/step - loss: 0.0125 - val_loss: 0.0168\n",
      "Epoch 48/1000\n",
      "1075/1075 [==============================] - 24s 22ms/step - loss: 0.0104 - val_loss: 0.0027\n",
      "Epoch 49/1000\n",
      "1075/1075 [==============================] - 24s 22ms/step - loss: 0.0127 - val_loss: 0.0083\n",
      "Epoch 50/1000\n",
      "1075/1075 [==============================] - 23s 22ms/step - loss: 0.0121 - val_loss: 0.0013\n",
      "Epoch 51/1000\n",
      "1075/1075 [==============================] - 23s 22ms/step - loss: 0.0087 - val_loss: 0.0309\n",
      "Epoch 52/1000\n",
      "1075/1075 [==============================] - 23s 22ms/step - loss: 0.0119 - val_loss: 0.0138\n",
      "Epoch 53/1000\n",
      "1075/1075 [==============================] - 23s 22ms/step - loss: 0.0097 - val_loss: 0.0105\n",
      "Epoch 54/1000\n",
      "1075/1075 [==============================] - 23s 22ms/step - loss: 0.0094 - val_loss: 0.0020\n",
      "Epoch 55/1000\n",
      "1075/1075 [==============================] - 23s 22ms/step - loss: 0.0098 - val_loss: 0.0331\n"
     ]
    }
   ],
   "source": [
    "# Train the model\n",
    "history = model.fit(X_train, y_train, validation_split=0.1, batch_size = 1024, epochs = 1000, verbose = 1, callbacks = [callback])\n"
   ]
  },
  {
   "cell_type": "code",
   "execution_count": 38,
   "id": "0b6ffed0",
   "metadata": {},
   "outputs": [
    {
     "data": {
      "image/png": "[encoded data removed]",
      "text/plain": [
       "<Figure size 432x288 with 1 Axes>"
      ]
     },
     "metadata": {
      "needs_background": "light"
     },
     "output_type": "display_data"
    }
   ],
   "source": [
    "plt.plot(history.history['loss'])\n",
    "plt.plot(history.history['val_loss'])\n",
    "plt.title('model loss')\n",
    "plt.ylabel('mse')\n",
    "plt.xlabel('epoch')\n",
    "plt.legend(['train', 'test'], loc='upper right')\n",
    "plt.show()"
   ]
  },
  {
   "cell_type": "markdown",
   "id": "d542d5e7",
   "metadata": {},
   "source": [
    "## Model evaluation and predictions on the test set"
   ]
  },
  {
   "cell_type": "code",
   "execution_count": 39,
   "id": "01d9aa96",
   "metadata": {},
   "outputs": [],
   "source": [
    "# Generate predictions on the test set\n",
    "y_hat = model.predict(X_test)\n",
    "y_hat = np.squeeze(y_hat)"
   ]
  },
  {
   "cell_type": "code",
   "execution_count": 40,
   "id": "1be4e366",
   "metadata": {},
   "outputs": [],
   "source": [
    "y_hat = np.array(y_hat, dtype='float')"
   ]
  },
  {
   "cell_type": "code",
   "execution_count": 41,
   "id": "ae8b551b",
   "metadata": {},
   "outputs": [
    {
     "data": {
      "text/plain": [
       "array([26.30708504, 28.50786018, 13.45418072, ..., 30.20541954,\n",
       "        2.42214274, 40.10568619])"
      ]
     },
     "execution_count": 41,
     "metadata": {},
     "output_type": "execute_result"
    }
   ],
   "source": [
    "y_hat"
   ]
  },
  {
   "cell_type": "code",
   "execution_count": 58,
   "id": "a652abec",
   "metadata": {},
   "outputs": [],
   "source": [
    "# Defines a function to calculate some performance measures\n",
    "# Source: https://srdas.github.io/DLBook/DeepLearningWithPython.html#option-pricing\n",
    "def CheckAccuracy(y,y_hat):\n",
    "    stats = dict()\n",
    "    \n",
    "    stats['diff'] = y - y_hat\n",
    "    \n",
    "    stats['mse'] = np.mean(stats['diff']**2)\n",
    "    print(\"Mean Squared Error:      \", stats['mse'])\n",
    "    \n",
    "    stats['rmse'] = np.sqrt(stats['mse'])\n",
    "    print(\"Root Mean Squared Error: \", stats['rmse'])\n",
    "    \n",
    "    stats['mae'] = np.mean(abs(stats['diff']))\n",
    "    print(\"Mean Absolute Error:     \", stats['mae'])\n",
    "    \n",
    "    stats['mpe'] = np.sqrt(stats['mse'])/np.mean(y)\n",
    "    print(\"Mean Percent Error:      \", stats['mpe'])\n",
    "    \n",
    "    #plots\n",
    "    plt.rcParams['agg.path.chunksize'] = 100000\n",
    "    plt.figure(figsize=(10,10))\n",
    "    plt.scatter(y, y_hat,color='black',linewidth=0.3,alpha=0.4, s=0.5)\n",
    "    plt.xlabel('Actual price',fontsize=20,fontname='Times New Roman')\n",
    "    plt.ylabel('Predicted price',fontsize=20,fontname='Times New Roman') \n",
    "    plt.show()\n",
    "    \n",
    "    plt.figure(figsize=(10,10))\n",
    "    plt.hist(stats['diff'], bins=50,edgecolor='black',color='white')\n",
    "    plt.xlabel('Diff')\n",
    "    plt.ylabel('Density')\n",
    "    plt.show()\n",
    "    \n",
    "    return stats"
   ]
  },
  {
   "cell_type": "code",
   "execution_count": 59,
   "id": "8357fbbd",
   "metadata": {},
   "outputs": [
    {
     "name": "stdout",
     "output_type": "stream",
     "text": [
      "Mean Squared Error:       0.03299288191340152\n",
      "Root Mean Squared Error:  0.18163942830069005\n",
      "Mean Absolute Error:      0.15784786937944983\n",
      "Mean Percent Error:       0.014423576295146373\n"
     ]
    },
    {
     "data": {
      "image/png": "[encoded data removed]",
      "text/plain": [
       "<Figure size 720x720 with 1 Axes>"
      ]
     },
     "metadata": {
      "needs_background": "light"
     },
     "output_type": "display_data"
    },
    {
     "data": {
      "image/png": "[encoded data removed]",
      "text/plain": [
       "<Figure size 720x720 with 1 Axes>"
      ]
     },
     "metadata": {
      "needs_background": "light"
     },
     "output_type": "display_data"
    },
    {
     "data": {
      "text/plain": [
       "{'diff': 954765    -0.260517\n",
       " 711377    -0.192785\n",
       " 1086810   -0.301379\n",
       " 859684    -0.237743\n",
       " 1040050   -0.125862\n",
       "              ...   \n",
       " 530703    -0.256603\n",
       " 608920    -0.166504\n",
       " 591292    -0.184913\n",
       " 462411    -0.118873\n",
       " 1120191   -0.241529\n",
       " Name: option_price, Length: 12348, dtype: float64,\n",
       " 'mse': 0.03299288191340152,\n",
       " 'rmse': 0.18163942830069005,\n",
       " 'mae': 0.15784786937944983,\n",
       " 'mpe': 0.014423576295146373}"
      ]
     },
     "execution_count": 59,
     "metadata": {},
     "output_type": "execute_result"
    }
   ],
   "source": [
    "# Print performance measures and plot actual versus predicted iv\n",
    "CheckAccuracy(y_test,y_hat)"
   ]
  }
 ],
 "metadata": {
  "kernelspec": {
   "display_name": "Python 3 (ipykernel)",
   "language": "python",
   "name": "python3"
  },
  "language_info": {
   "codemirror_mode": {
    "name": "ipython",
    "version": 3
   },
   "file_extension": ".py",
   "mimetype": "text/x-python",
   "name": "python",
   "nbconvert_exporter": "python",
   "pygments_lexer": "ipython3",
   "version": "3.8.13"
  }
 },
 "nbformat": 4,
 "nbformat_minor": 5
}
