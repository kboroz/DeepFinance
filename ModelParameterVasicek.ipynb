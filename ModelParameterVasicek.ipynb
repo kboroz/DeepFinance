{
  "nbformat": 4,
  "nbformat_minor": 0,
  "metadata": {
    "colab": {
      "name": "ModelParameterVasicek.ipynb",
      "provenance": [],
      "collapsed_sections": [],
      "authorship_tag": "ABX9TyNxB+xAyJPJ8RYLXGXvOMZh",
      "include_colab_link": true
    },
    "kernelspec": {
      "name": "python3",
      "display_name": "Python 3"
    },
    "language_info": {
      "name": "python"
    }
  },
  "cells": [
    {
      "cell_type": "markdown",
      "metadata": {
        "id": "view-in-github",
        "colab_type": "text"
      },
      "source": [
        "<a href=\"https://colab.research.google.com/github/kboroz/DeepFinance/blob/main/ModelParameterVasicek.ipynb\" target=\"_parent\"><img src=\"https://colab.research.google.com/assets/colab-badge.svg\" alt=\"Open In Colab\"/></a>"
      ]
    },
    {
      "cell_type": "code",
      "execution_count": 2,
      "metadata": {
        "id": "1NCNyBsjJufZ"
      },
      "outputs": [],
      "source": [
        "import numpy as np\n",
        "import tensorflow as tf\n",
        "\n",
        "from keras.models import Sequential\n",
        "from keras.layers import Input, Dense, Conv2D, Concatenate, Dropout, Subtract, \\\n",
        "                        Flatten, MaxPooling2D, Multiply, Lambda, Add, Dot\n",
        "from keras.backend import constant\n",
        "from keras import optimizers\n",
        "\n",
        "from tensorflow.keras.layers import Layer, InputSpec\n",
        "from keras.models import Model\n",
        "from keras.layers import Input\n",
        "from keras import initializers\n",
        "from keras.constraints import max_norm\n",
        "import keras.backend as K\n",
        "\n",
        "import matplotlib.pyplot as plt"
      ]
    },
    {
      "cell_type": "code",
      "source": [
        "#Define Bond-Pricing formula\n",
        "\n",
        "def bondprice(r,kappa,theta,sigma,T):\n",
        "    B=(1-np.exp(-kappa*T))/kappa\n",
        "    A=np.exp((theta-sigma**2/(2*kappa**2))*( B-T) - sigma**2/(4 *kappa)* B**2)\n",
        "    P=A*np.exp(-r*B)\n",
        "    return P    "
      ],
      "metadata": {
        "id": "e0eotPjtJ2Ps"
      },
      "execution_count": 3,
      "outputs": []
    },
    {
      "cell_type": "code",
      "source": [
        "#Define Parameters for simluation study\n",
        "\n",
        "Ktrain = 10**4\n",
        "\n",
        "r=np.random.uniform(-0.00,0.03,size=(Ktrain,1))\n",
        "kappa=np.random.uniform(0.3,1.3,size=(Ktrain,1))\n",
        "theta=np.random.uniform(-0.00,0.03,size=(Ktrain,1))\n",
        "sigma=np.random.uniform(0.1,0.4,size=(Ktrain,1))"
      ],
      "metadata": {
        "id": "0GLkUErCKIlx"
      },
      "execution_count": 4,
      "outputs": []
    },
    {
      "cell_type": "code",
      "source": [
        "#Calculate Bond-Prices\n",
        "\n",
        "prices=bondprice(r,kappa,theta,sigma,[1/12,2/12,3/12,4/12,5/12,6/12,7/12, 8/12, 9/12, 10/12, 11/12, 1, 2,3,4,5,10])"
      ],
      "metadata": {
        "id": "GrBFiqF3KLrZ"
      },
      "execution_count": 5,
      "outputs": []
    },
    {
      "cell_type": "code",
      "source": [
        "#Data Check\n",
        "\n",
        "print(prices)"
      ],
      "metadata": {
        "colab": {
          "base_uri": "https://localhost:8080/"
        },
        "id": "1Y_SoBO3KMrA",
        "outputId": "d0128c42-dffd-4a30-b671-b555c49aa7b6"
      },
      "execution_count": 6,
      "outputs": [
        {
          "output_type": "stream",
          "name": "stdout",
          "text": [
            "[[0.99782887 0.99577153 0.99383848 ... 1.01290054 1.03414716 1.15925649]\n",
            " [0.99796597 0.99603921 0.99426501 ... 1.3010651  1.53765814 4.31086066]\n",
            " [0.9986588  0.99733378 0.99606045 ... 1.06573705 1.10913254 1.37523239]\n",
            " ...\n",
            " [0.99913098 0.99833073 0.99764102 ... 1.1560333  1.23841993 1.78285702]\n",
            " [0.99888894 0.99777814 0.99669673 ... 1.00131864 1.00829757 1.04501978]\n",
            " [0.99832314 0.99669324 0.99515054 ... 1.22300023 1.399613   3.26846648]]\n"
          ]
        }
      ]
    },
    {
      "cell_type": "code",
      "source": [
        "#Define Data aka Prices and Parameters\n",
        "\n",
        "xtrain=np.concatenate((prices, r), axis=1)\n",
        "ytrain=np.concatenate((kappa,theta,sigma), axis=1)"
      ],
      "metadata": {
        "id": "McpZFzfOKQ5h"
      },
      "execution_count": 7,
      "outputs": []
    },
    {
      "cell_type": "code",
      "source": [
        "#Define NN\n",
        "\n",
        "model = Sequential()\n",
        "\n",
        "layer1=Dense(64, input_shape=(18,),activation=tf.nn.relu, use_bias=True, kernel_initializer='random_uniform')\n",
        "layer1.trainable=True\n",
        "model.add(layer1)\n",
        "model.add(Dense(64, activation='relu'))\n",
        "model.add(Dense(64, activation='relu'))\n",
        "model.add(Dense(3,activation='linear')) "
      ],
      "metadata": {
        "id": "anllVT5aKTKK"
      },
      "execution_count": 8,
      "outputs": []
    },
    {
      "cell_type": "code",
      "source": [
        "#Training\n",
        "\n",
        "model.compile(optimizer='adam', \n",
        "              loss='mean_squared_error')\n",
        "\n",
        "model.fit(xtrain,ytrain, epochs=100)"
      ],
      "metadata": {
        "colab": {
          "base_uri": "https://localhost:8080/"
        },
        "id": "QbnhDtJcKVot",
        "outputId": "9c187b0c-b6b2-442c-96b6-4ad9871c4756"
      },
      "execution_count": 9,
      "outputs": [
        {
          "output_type": "stream",
          "name": "stdout",
          "text": [
            "Epoch 1/100\n",
            "313/313 [==============================] - 1s 2ms/step - loss: 0.0263\n",
            "Epoch 2/100\n",
            "313/313 [==============================] - 1s 2ms/step - loss: 0.0173\n",
            "Epoch 3/100\n",
            "313/313 [==============================] - 1s 2ms/step - loss: 0.0168\n",
            "Epoch 4/100\n",
            "313/313 [==============================] - 1s 2ms/step - loss: 0.0166\n",
            "Epoch 5/100\n",
            "313/313 [==============================] - 1s 2ms/step - loss: 0.0162\n",
            "Epoch 6/100\n",
            "313/313 [==============================] - 1s 2ms/step - loss: 0.0149\n",
            "Epoch 7/100\n",
            "313/313 [==============================] - 1s 2ms/step - loss: 0.0133\n",
            "Epoch 8/100\n",
            "313/313 [==============================] - 1s 2ms/step - loss: 0.0112\n",
            "Epoch 9/100\n",
            "313/313 [==============================] - 1s 2ms/step - loss: 0.0097\n",
            "Epoch 10/100\n",
            "313/313 [==============================] - 1s 2ms/step - loss: 0.0083\n",
            "Epoch 11/100\n",
            "313/313 [==============================] - 1s 2ms/step - loss: 0.0072\n",
            "Epoch 12/100\n",
            "313/313 [==============================] - 1s 2ms/step - loss: 0.0065\n",
            "Epoch 13/100\n",
            "313/313 [==============================] - 1s 2ms/step - loss: 0.0062\n",
            "Epoch 14/100\n",
            "313/313 [==============================] - 1s 2ms/step - loss: 0.0072\n",
            "Epoch 15/100\n",
            "313/313 [==============================] - 1s 4ms/step - loss: 0.0058\n",
            "Epoch 16/100\n",
            "313/313 [==============================] - 1s 2ms/step - loss: 0.0062\n",
            "Epoch 17/100\n",
            "313/313 [==============================] - 1s 4ms/step - loss: 0.0056\n",
            "Epoch 18/100\n",
            "313/313 [==============================] - 1s 4ms/step - loss: 0.0062\n",
            "Epoch 19/100\n",
            "313/313 [==============================] - 1s 4ms/step - loss: 0.0049\n",
            "Epoch 20/100\n",
            "313/313 [==============================] - 1s 4ms/step - loss: 0.0048\n",
            "Epoch 21/100\n",
            "313/313 [==============================] - 1s 5ms/step - loss: 0.0054\n",
            "Epoch 22/100\n",
            "313/313 [==============================] - 1s 4ms/step - loss: 0.0050\n",
            "Epoch 23/100\n",
            "313/313 [==============================] - 1s 4ms/step - loss: 0.0051\n",
            "Epoch 24/100\n",
            "313/313 [==============================] - 1s 3ms/step - loss: 0.0051\n",
            "Epoch 25/100\n",
            "313/313 [==============================] - 1s 3ms/step - loss: 0.0054\n",
            "Epoch 26/100\n",
            "313/313 [==============================] - 1s 2ms/step - loss: 0.0051\n",
            "Epoch 27/100\n",
            "313/313 [==============================] - 1s 2ms/step - loss: 0.0050\n",
            "Epoch 28/100\n",
            "313/313 [==============================] - 1s 3ms/step - loss: 0.0053\n",
            "Epoch 29/100\n",
            "313/313 [==============================] - 1s 2ms/step - loss: 0.0053\n",
            "Epoch 30/100\n",
            "313/313 [==============================] - 1s 3ms/step - loss: 0.0053\n",
            "Epoch 31/100\n",
            "313/313 [==============================] - 1s 3ms/step - loss: 0.0049\n",
            "Epoch 32/100\n",
            "313/313 [==============================] - 1s 2ms/step - loss: 0.0050\n",
            "Epoch 33/100\n",
            "313/313 [==============================] - 1s 2ms/step - loss: 0.0053\n",
            "Epoch 34/100\n",
            "313/313 [==============================] - 1s 2ms/step - loss: 0.0051\n",
            "Epoch 35/100\n",
            "313/313 [==============================] - 1s 2ms/step - loss: 0.0045\n",
            "Epoch 36/100\n",
            "313/313 [==============================] - 1s 2ms/step - loss: 0.0051\n",
            "Epoch 37/100\n",
            "313/313 [==============================] - 1s 3ms/step - loss: 0.0051\n",
            "Epoch 38/100\n",
            "313/313 [==============================] - 1s 2ms/step - loss: 0.0050\n",
            "Epoch 39/100\n",
            "313/313 [==============================] - 1s 2ms/step - loss: 0.0046\n",
            "Epoch 40/100\n",
            "313/313 [==============================] - 1s 3ms/step - loss: 0.0052\n",
            "Epoch 41/100\n",
            "313/313 [==============================] - 1s 2ms/step - loss: 0.0045\n",
            "Epoch 42/100\n",
            "313/313 [==============================] - 1s 3ms/step - loss: 0.0046\n",
            "Epoch 43/100\n",
            "313/313 [==============================] - 1s 2ms/step - loss: 0.0052\n",
            "Epoch 44/100\n",
            "313/313 [==============================] - 1s 2ms/step - loss: 0.0049\n",
            "Epoch 45/100\n",
            "313/313 [==============================] - 1s 2ms/step - loss: 0.0049\n",
            "Epoch 46/100\n",
            "313/313 [==============================] - 1s 2ms/step - loss: 0.0053\n",
            "Epoch 47/100\n",
            "313/313 [==============================] - 1s 3ms/step - loss: 0.0049\n",
            "Epoch 48/100\n",
            "313/313 [==============================] - 1s 3ms/step - loss: 0.0050\n",
            "Epoch 49/100\n",
            "313/313 [==============================] - 1s 2ms/step - loss: 0.0049\n",
            "Epoch 50/100\n",
            "313/313 [==============================] - 1s 2ms/step - loss: 0.0049\n",
            "Epoch 51/100\n",
            "313/313 [==============================] - 1s 2ms/step - loss: 0.0045\n",
            "Epoch 52/100\n",
            "313/313 [==============================] - 1s 2ms/step - loss: 0.0044\n",
            "Epoch 53/100\n",
            "313/313 [==============================] - 1s 2ms/step - loss: 0.0050\n",
            "Epoch 54/100\n",
            "313/313 [==============================] - 1s 2ms/step - loss: 0.0047\n",
            "Epoch 55/100\n",
            "313/313 [==============================] - 1s 2ms/step - loss: 0.0047\n",
            "Epoch 56/100\n",
            "313/313 [==============================] - 1s 2ms/step - loss: 0.0050\n",
            "Epoch 57/100\n",
            "313/313 [==============================] - 1s 3ms/step - loss: 0.0044\n",
            "Epoch 58/100\n",
            "313/313 [==============================] - 1s 2ms/step - loss: 0.0043\n",
            "Epoch 59/100\n",
            "313/313 [==============================] - 1s 2ms/step - loss: 0.0048\n",
            "Epoch 60/100\n",
            "313/313 [==============================] - 1s 3ms/step - loss: 0.0046\n",
            "Epoch 61/100\n",
            "313/313 [==============================] - 1s 2ms/step - loss: 0.0045\n",
            "Epoch 62/100\n",
            "313/313 [==============================] - 1s 3ms/step - loss: 0.0048\n",
            "Epoch 63/100\n",
            "313/313 [==============================] - 1s 2ms/step - loss: 0.0044\n",
            "Epoch 64/100\n",
            "313/313 [==============================] - 1s 2ms/step - loss: 0.0042\n",
            "Epoch 65/100\n",
            "313/313 [==============================] - 1s 2ms/step - loss: 0.0042\n",
            "Epoch 66/100\n",
            "313/313 [==============================] - 1s 2ms/step - loss: 0.0045\n",
            "Epoch 67/100\n",
            "313/313 [==============================] - 1s 2ms/step - loss: 0.0047\n",
            "Epoch 68/100\n",
            "313/313 [==============================] - 1s 2ms/step - loss: 0.0041\n",
            "Epoch 69/100\n",
            "313/313 [==============================] - 1s 2ms/step - loss: 0.0051\n",
            "Epoch 70/100\n",
            "313/313 [==============================] - 1s 2ms/step - loss: 0.0046\n",
            "Epoch 71/100\n",
            "313/313 [==============================] - 1s 2ms/step - loss: 0.0044\n",
            "Epoch 72/100\n",
            "313/313 [==============================] - 1s 2ms/step - loss: 0.0048\n",
            "Epoch 73/100\n",
            "313/313 [==============================] - 1s 2ms/step - loss: 0.0045\n",
            "Epoch 74/100\n",
            "313/313 [==============================] - 1s 2ms/step - loss: 0.0042\n",
            "Epoch 75/100\n",
            "313/313 [==============================] - 1s 2ms/step - loss: 0.0047\n",
            "Epoch 76/100\n",
            "313/313 [==============================] - 1s 2ms/step - loss: 0.0049\n",
            "Epoch 77/100\n",
            "313/313 [==============================] - 1s 2ms/step - loss: 0.0045\n",
            "Epoch 78/100\n",
            "313/313 [==============================] - 1s 2ms/step - loss: 0.0042\n",
            "Epoch 79/100\n",
            "313/313 [==============================] - 1s 2ms/step - loss: 0.0041\n",
            "Epoch 80/100\n",
            "313/313 [==============================] - 1s 2ms/step - loss: 0.0044\n",
            "Epoch 81/100\n",
            "313/313 [==============================] - 1s 2ms/step - loss: 0.0043\n",
            "Epoch 82/100\n",
            "313/313 [==============================] - 1s 3ms/step - loss: 0.0048\n",
            "Epoch 83/100\n",
            "313/313 [==============================] - 1s 2ms/step - loss: 0.0044\n",
            "Epoch 84/100\n",
            "313/313 [==============================] - 1s 2ms/step - loss: 0.0044\n",
            "Epoch 85/100\n",
            "313/313 [==============================] - 1s 2ms/step - loss: 0.0053\n",
            "Epoch 86/100\n",
            "313/313 [==============================] - 1s 2ms/step - loss: 0.0046\n",
            "Epoch 87/100\n",
            "313/313 [==============================] - 1s 2ms/step - loss: 0.0042\n",
            "Epoch 88/100\n",
            "313/313 [==============================] - 1s 2ms/step - loss: 0.0040\n",
            "Epoch 89/100\n",
            "313/313 [==============================] - 1s 3ms/step - loss: 0.0042\n",
            "Epoch 90/100\n",
            "313/313 [==============================] - 1s 2ms/step - loss: 0.0044\n",
            "Epoch 91/100\n",
            "313/313 [==============================] - 1s 3ms/step - loss: 0.0048\n",
            "Epoch 92/100\n",
            "313/313 [==============================] - 1s 2ms/step - loss: 0.0048\n",
            "Epoch 93/100\n",
            "313/313 [==============================] - 1s 2ms/step - loss: 0.0048\n",
            "Epoch 94/100\n",
            "313/313 [==============================] - 1s 2ms/step - loss: 0.0044\n",
            "Epoch 95/100\n",
            "313/313 [==============================] - 1s 2ms/step - loss: 0.0037\n",
            "Epoch 96/100\n",
            "313/313 [==============================] - 1s 2ms/step - loss: 0.0046\n",
            "Epoch 97/100\n",
            "313/313 [==============================] - 1s 2ms/step - loss: 0.0046\n",
            "Epoch 98/100\n",
            "313/313 [==============================] - 1s 2ms/step - loss: 0.0042\n",
            "Epoch 99/100\n",
            "313/313 [==============================] - 1s 2ms/step - loss: 0.0041\n",
            "Epoch 100/100\n",
            "313/313 [==============================] - 1s 2ms/step - loss: 0.0044\n"
          ]
        },
        {
          "output_type": "execute_result",
          "data": {
            "text/plain": [
              "<keras.callbacks.History at 0x7f302176afd0>"
            ]
          },
          "metadata": {},
          "execution_count": 9
        }
      ]
    },
    {
      "cell_type": "code",
      "source": [
        "#Testing data\n",
        "\n",
        "Ktest = 1\n",
        "\n",
        "rtest=np.random.uniform(-0.00,0.03,size=(Ktest,1))\n",
        "kappatest=np.random.uniform(0.3,1.3,size=(Ktest,1))\n",
        "thetatest=np.random.uniform(-0.00,0.03,size=(Ktest,1))\n",
        "sigmatest=np.random.uniform(0.1,0.4,size=(Ktest,1))\n",
        "\n",
        "pricestest=bondprice(rtest,kappatest,thetatest,sigmatest,[1/12,2/12,3/12,4/12,5/12,6/12,7/12, 8/12, 9/12, 10/12, 11/12, 1, 2,3,4,5,10])\n",
        "\n",
        "xtest=np.concatenate((pricestest, rtest), axis=1)\n",
        "ytest=np.concatenate((kappatest,thetatest,sigmatest), axis=1)"
      ],
      "metadata": {
        "id": "Na3bnwYSLCD0"
      },
      "execution_count": 11,
      "outputs": []
    },
    {
      "cell_type": "code",
      "source": [
        "#Compare model parameters\n",
        "\n",
        "print(model.predict(xtest))\n",
        "print(ytest)"
      ],
      "metadata": {
        "colab": {
          "base_uri": "https://localhost:8080/"
        },
        "id": "kZdbRkvoLJb4",
        "outputId": "e6aaee8d-26a8-4114-e963-5143560cf372"
      },
      "execution_count": 12,
      "outputs": [
        {
          "output_type": "stream",
          "name": "stdout",
          "text": [
            "[[0.47350538 0.01625757 0.21983261]]\n",
            "[[0.49656094 0.0171911  0.22500875]]\n"
          ]
        }
      ]
    }
  ]
}