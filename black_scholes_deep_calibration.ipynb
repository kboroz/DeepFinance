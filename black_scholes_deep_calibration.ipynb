{
 "cells": [
  {
   "cell_type": "markdown",
   "id": "cec53fb4",
   "metadata": {},
   "source": [
    "# Black Scholes Model Deep Calibration"
   ]
  },
  {
   "cell_type": "markdown",
   "id": "bb33e07b",
   "metadata": {},
   "source": [
    "Kurzer Versuch...."
   ]
  },
  {
   "cell_type": "code",
   "execution_count": null,
   "id": "97d51ac0",
   "metadata": {},
   "outputs": [],
   "source": [
    "# Libraries laden\n",
    "import numpy as np\n",
    "from math import log, sqrt, exp\n",
    "from scipy import stats\n",
    "import pandas as pd\n",
    "#import tensorflow as tf\n",
    "from tensorflow import keras\n",
    "from tensorflow.keras import layers\n",
    "import matplotlib.pyplot as plt"
   ]
  },
  {
   "cell_type": "code",
   "execution_count": 82,
   "id": "fa8eea09",
   "metadata": {},
   "outputs": [],
   "source": [
    "# Function that equals R's expand_grid\n",
    "import itertools\n",
    "def expand_grid(data_dict):\n",
    "    rows = itertools.product(*data_dict.values())\n",
    "    return pd.DataFrame.from_records(rows, columns=data_dict.keys())"
   ]
  },
  {
   "cell_type": "code",
   "execution_count": 94,
   "id": "a5c36593",
   "metadata": {},
   "outputs": [],
   "source": [
    "# Generate sznthetic data\n",
    "synthetic_data = expand_grid({\n",
    "    'stock_price': np.arange(40, 61),\n",
    "    'strike_price':np.arange(20, 90),\n",
    "    'maturity': np.arange(3/12, 2, step = 1/12),\n",
    "    'risk_free_rate':np.arange(0.01, 0.06, step = 0.01),\n",
    "    'sigma': np.arange(0.1, 0.9, step = 0.1)\n",
    "}\n",
    ")"
   ]
  },
  {
   "cell_type": "code",
   "execution_count": 84,
   "id": "aeaacba1",
   "metadata": {},
   "outputs": [],
   "source": [
    "# Black-Scholes Modell zur Berechnung der IV\n",
    "def bs_option_value(S0, K, T, r, sigma):\n",
    "    'Function to calculate the value of a call option based on the Black-Scholes formula'\n",
    "    'arguments:'\n",
    "    'S0: inital stock price'\n",
    "    'K: strike price'\n",
    "    'T: maturity'\n",
    "    'r: risk free rate (constant)'\n",
    "    'sigma: volatility'\n",
    "    'returns: option value'\n",
    "    #calculate d1 and d2\n",
    "    d1 = ((np.log(S0 / K) + (r + 0.5 * sigma ** 2) * T) / (sigma * np.sqrt(T)))\n",
    "    d2 = ((np.log(S0 / K) + (r - 0.5 * sigma ** 2) * T) / (sigma * np.sqrt(T)))\n",
    "    option_value = S0 * stats.norm.cdf(d1, 0.0, 1.0) - K * np.exp(-r * T) * stats.norm.cdf(d2, 0.0, 1.0)\n",
    "    return option_value"
   ]
  },
  {
   "cell_type": "code",
   "execution_count": 85,
   "id": "9a968321",
   "metadata": {},
   "outputs": [
    {
     "data": {
      "text/plain": [
       "0.9999999988919036"
      ]
     },
     "execution_count": 85,
     "metadata": {},
     "output_type": "execute_result"
    }
   ],
   "source": [
    "# Testing the function\n",
    "bs_option_value(1,2,4,3,5)"
   ]
  },
  {
   "cell_type": "code",
   "execution_count": 86,
   "id": "a19b3a9f",
   "metadata": {},
   "outputs": [],
   "source": [
    "# calculate option vega\n",
    "def option_vega(S0, K, T, r, sigma):\n",
    "    'takes the same arguments as the function above'\n",
    "    'returns option vega'\n",
    "    d1 = ((np.log(S0 / K) + (r + 0.5 * sigma ** 2) * T) / (sigma * sqrt(T)))\n",
    "    vega = S0 * stats.norm.cdf(d1, 0.0, 1.0) * np.sqrt(T)\n",
    "    return vega"
   ]
  },
  {
   "cell_type": "code",
   "execution_count": 87,
   "id": "5e1dcba3",
   "metadata": {},
   "outputs": [
    {
     "data": {
      "text/plain": [
       "1.7320507924724615"
      ]
     },
     "execution_count": 87,
     "metadata": {},
     "output_type": "execute_result"
    }
   ],
   "source": [
    "# Testing the function\n",
    "option_vega(1,2,3,4,5)"
   ]
  },
  {
   "cell_type": "code",
   "execution_count": 88,
   "id": "6167275e",
   "metadata": {},
   "outputs": [],
   "source": [
    "# calculate implied volatility\n",
    "def implied_volatility(S0, K, T, C, r, sigma):\n",
    "    'calculates the implied volatility'\n",
    "    'C0: '\n",
    "    'sigma_est:'\n",
    "    'it: number of iterations'\n",
    "    'retunts implied volatility'\n",
    "    d1 = (np.log(S0 / K) + (r - 0.5 * sigma ** 2) * T) / (sigma * np.sqrt(T))\n",
    "    d2 = (np.log(S0 / K) + (r - 0.5 * sigma ** 2) * T) / (sigma * np.sqrt(T))\n",
    "    \n",
    "    fx = S0 * stats.norm.cdf(d1, 0.0, 1.0) - K * np.exp(-r * T) * stats.norm.cdf(d2, 0.0, 1.0) - C\n",
    "    \n",
    "    vega = (1 / np.sqrt(2 * np.pi)) * S0 * np.sqrt(T) * np.exp(-(stats.norm.cdf(d1, 0.0, 1.0) ** 2) * 0.5)\n",
    "    # Warum hier andere Formal fuer vega?\n",
    "    \n",
    "    tolerance = 0.000001\n",
    "    x0 = sigma\n",
    "    xnew  = x0\n",
    "    xold = x0 - 1\n",
    "        \n",
    "    while abs(xnew - xold) > tolerance:\n",
    "    \n",
    "        xold = xnew\n",
    "        xnew = (xnew - fx - C) / vega\n",
    "        \n",
    "        return abs(xnew)\n",
    "# Quelle fuer vega und iv : https://aaronschlegel.me/implied-volatility-functions-python.html"
   ]
  },
  {
   "cell_type": "code",
   "execution_count": 89,
   "id": "4307d483",
   "metadata": {},
   "outputs": [
    {
     "data": {
      "text/plain": [
       "8.683118302572918"
      ]
     },
     "execution_count": 89,
     "metadata": {},
     "output_type": "execute_result"
    }
   ],
   "source": [
    "# Testing the function\n",
    "implied_volatility(1,2,3,4,5,6)"
   ]
  },
  {
   "cell_type": "code",
   "execution_count": 95,
   "id": "bd8d0c02",
   "metadata": {},
   "outputs": [],
   "source": [
    "synthetic_data['black_scholes'] = bs_option_value(synthetic_data['stock_price'], synthetic_data['strike_price'],\n",
    "                                               synthetic_data['maturity'], synthetic_data['risk_free_rate'],\n",
    "                                               synthetic_data['sigma'])"
   ]
  },
  {
   "cell_type": "code",
   "execution_count": 96,
   "id": "06ce9b66",
   "metadata": {},
   "outputs": [],
   "source": [
    "# Add some random noise to the real prices to create the option prices\n",
    "synthetic_data[\"option_price\"] = synthetic_data[\"black_scholes\"] + np.random.normal(0, 0.1)"
   ]
  },
  {
   "cell_type": "code",
   "execution_count": 97,
   "id": "3568490a",
   "metadata": {},
   "outputs": [
    {
     "data": {
      "text/html": [
       "<div>\n",
       "<style scoped>\n",
       "    .dataframe tbody tr th:only-of-type {\n",
       "        vertical-align: middle;\n",
       "    }\n",
       "\n",
       "    .dataframe tbody tr th {\n",
       "        vertical-align: top;\n",
       "    }\n",
       "\n",
       "    .dataframe thead th {\n",
       "        text-align: right;\n",
       "    }\n",
       "</style>\n",
       "<table border=\"1\" class=\"dataframe\">\n",
       "  <thead>\n",
       "    <tr style=\"text-align: right;\">\n",
       "      <th></th>\n",
       "      <th>stock_price</th>\n",
       "      <th>strike_price</th>\n",
       "      <th>maturity</th>\n",
       "      <th>risk_free_rate</th>\n",
       "      <th>sigma</th>\n",
       "      <th>black_scholes</th>\n",
       "      <th>option_price</th>\n",
       "    </tr>\n",
       "  </thead>\n",
       "  <tbody>\n",
       "    <tr>\n",
       "      <th>0</th>\n",
       "      <td>40</td>\n",
       "      <td>20</td>\n",
       "      <td>0.25</td>\n",
       "      <td>0.01</td>\n",
       "      <td>0.1</td>\n",
       "      <td>20.049938</td>\n",
       "      <td>20.105943</td>\n",
       "    </tr>\n",
       "    <tr>\n",
       "      <th>1</th>\n",
       "      <td>40</td>\n",
       "      <td>20</td>\n",
       "      <td>0.25</td>\n",
       "      <td>0.01</td>\n",
       "      <td>0.2</td>\n",
       "      <td>20.049938</td>\n",
       "      <td>20.105943</td>\n",
       "    </tr>\n",
       "    <tr>\n",
       "      <th>2</th>\n",
       "      <td>40</td>\n",
       "      <td>20</td>\n",
       "      <td>0.25</td>\n",
       "      <td>0.01</td>\n",
       "      <td>0.3</td>\n",
       "      <td>20.049939</td>\n",
       "      <td>20.105945</td>\n",
       "    </tr>\n",
       "    <tr>\n",
       "      <th>3</th>\n",
       "      <td>40</td>\n",
       "      <td>20</td>\n",
       "      <td>0.25</td>\n",
       "      <td>0.01</td>\n",
       "      <td>0.4</td>\n",
       "      <td>20.050296</td>\n",
       "      <td>20.106302</td>\n",
       "    </tr>\n",
       "    <tr>\n",
       "      <th>4</th>\n",
       "      <td>40</td>\n",
       "      <td>20</td>\n",
       "      <td>0.25</td>\n",
       "      <td>0.01</td>\n",
       "      <td>0.5</td>\n",
       "      <td>20.055598</td>\n",
       "      <td>20.111603</td>\n",
       "    </tr>\n",
       "  </tbody>\n",
       "</table>\n",
       "</div>"
      ],
      "text/plain": [
       "   stock_price  strike_price  maturity  risk_free_rate  sigma  black_scholes  \\\n",
       "0           40            20      0.25            0.01    0.1      20.049938   \n",
       "1           40            20      0.25            0.01    0.2      20.049938   \n",
       "2           40            20      0.25            0.01    0.3      20.049939   \n",
       "3           40            20      0.25            0.01    0.4      20.050296   \n",
       "4           40            20      0.25            0.01    0.5      20.055598   \n",
       "\n",
       "   option_price  \n",
       "0     20.105943  \n",
       "1     20.105943  \n",
       "2     20.105945  \n",
       "3     20.106302  \n",
       "4     20.111603  "
      ]
     },
     "execution_count": 97,
     "metadata": {},
     "output_type": "execute_result"
    }
   ],
   "source": [
    "synthetic_data.head()"
   ]
  },
  {
   "cell_type": "code",
   "execution_count": 173,
   "id": "8b738077",
   "metadata": {},
   "outputs": [],
   "source": [
    "from sklearn.model_selection import train_test_split\n",
    "train, test = train_test_split(synthetic_data.drop([\"black_scholes\"], axis = 1), test_size = 0.01,\n",
    "                                                   random_state = 42)"
   ]
  },
  {
   "cell_type": "code",
   "execution_count": 101,
   "id": "7f4fc1bd",
   "metadata": {},
   "outputs": [],
   "source": [
    "# Daten standardisieren\n",
    "from sklearn.preprocessing import StandardScaler\n",
    "scaler = StandardScaler()"
   ]
  },
  {
   "cell_type": "code",
   "execution_count": 157,
   "id": "9fdd7759",
   "metadata": {},
   "outputs": [],
   "source": [
    "def standardize(train, test, cols):\n",
    "    \n",
    "    # Pruefen, ob korrekt spaltenweise standardisiert wurde - > passt\n",
    "    cols = cols\n",
    "    \n",
    "    scaler = StandardScaler().fit(train[cols])\n",
    "    train_std=pd.DataFrame(scaler.transform(train[cols]), columns = cols)\n",
    "\n",
    "    test_std=pd.DataFrame(scaler.transform(test[cols]), columns = cols)\n",
    "    return train_std, test_std"
   ]
  },
  {
   "cell_type": "code",
   "execution_count": 174,
   "id": "14d0a20e",
   "metadata": {},
   "outputs": [],
   "source": [
    "columns = [\"stock_price\", 'strike_price', 'maturity', 'risk_free_rate', 'sigma', 'option_price']\n",
    "train_std, test_std = standardize(train, test, columns)"
   ]
  },
  {
   "cell_type": "code",
   "execution_count": 175,
   "id": "c0f716de",
   "metadata": {},
   "outputs": [
    {
     "data": {
      "text/html": [
       "<div>\n",
       "<style scoped>\n",
       "    .dataframe tbody tr th:only-of-type {\n",
       "        vertical-align: middle;\n",
       "    }\n",
       "\n",
       "    .dataframe tbody tr th {\n",
       "        vertical-align: top;\n",
       "    }\n",
       "\n",
       "    .dataframe thead th {\n",
       "        text-align: right;\n",
       "    }\n",
       "</style>\n",
       "<table border=\"1\" class=\"dataframe\">\n",
       "  <thead>\n",
       "    <tr style=\"text-align: right;\">\n",
       "      <th></th>\n",
       "      <th>stock_price</th>\n",
       "      <th>strike_price</th>\n",
       "      <th>maturity</th>\n",
       "      <th>risk_free_rate</th>\n",
       "      <th>sigma</th>\n",
       "      <th>option_price</th>\n",
       "    </tr>\n",
       "  </thead>\n",
       "  <tbody>\n",
       "    <tr>\n",
       "      <th>count</th>\n",
       "      <td>1.222452e+06</td>\n",
       "      <td>1.222452e+06</td>\n",
       "      <td>1.222452e+06</td>\n",
       "      <td>1.222452e+06</td>\n",
       "      <td>1.222452e+06</td>\n",
       "      <td>1.222452e+06</td>\n",
       "    </tr>\n",
       "    <tr>\n",
       "      <th>mean</th>\n",
       "      <td>1.297920e-15</td>\n",
       "      <td>-1.399374e-16</td>\n",
       "      <td>-1.112979e-15</td>\n",
       "      <td>-2.103291e-15</td>\n",
       "      <td>1.401682e-15</td>\n",
       "      <td>-1.420584e-16</td>\n",
       "    </tr>\n",
       "    <tr>\n",
       "      <th>std</th>\n",
       "      <td>1.000000e+00</td>\n",
       "      <td>1.000000e+00</td>\n",
       "      <td>1.000000e+00</td>\n",
       "      <td>1.000000e+00</td>\n",
       "      <td>1.000000e+00</td>\n",
       "      <td>1.000000e+00</td>\n",
       "    </tr>\n",
       "    <tr>\n",
       "      <th>min</th>\n",
       "      <td>-1.651488e+00</td>\n",
       "      <td>-1.707533e+00</td>\n",
       "      <td>-1.651447e+00</td>\n",
       "      <td>-1.414344e+00</td>\n",
       "      <td>-1.527611e+00</td>\n",
       "      <td>-1.157175e+00</td>\n",
       "    </tr>\n",
       "    <tr>\n",
       "      <th>25%</th>\n",
       "      <td>-8.257595e-01</td>\n",
       "      <td>-8.661821e-01</td>\n",
       "      <td>-8.257010e-01</td>\n",
       "      <td>-7.072452e-01</td>\n",
       "      <td>-6.547270e-01</td>\n",
       "      <td>-8.881225e-01</td>\n",
       "    </tr>\n",
       "    <tr>\n",
       "      <th>50%</th>\n",
       "      <td>-3.134175e-05</td>\n",
       "      <td>2.466045e-02</td>\n",
       "      <td>4.512230e-05</td>\n",
       "      <td>-1.463419e-04</td>\n",
       "      <td>2.181567e-01</td>\n",
       "      <td>-2.134170e-01</td>\n",
       "    </tr>\n",
       "    <tr>\n",
       "      <th>75%</th>\n",
       "      <td>8.256968e-01</td>\n",
       "      <td>8.660118e-01</td>\n",
       "      <td>8.257912e-01</td>\n",
       "      <td>7.069525e-01</td>\n",
       "      <td>1.091040e+00</td>\n",
       "      <td>6.910842e-01</td>\n",
       "    </tr>\n",
       "    <tr>\n",
       "      <th>max</th>\n",
       "      <td>1.651425e+00</td>\n",
       "      <td>1.707363e+00</td>\n",
       "      <td>1.651537e+00</td>\n",
       "      <td>1.414051e+00</td>\n",
       "      <td>1.527482e+00</td>\n",
       "      <td>3.264956e+00</td>\n",
       "    </tr>\n",
       "  </tbody>\n",
       "</table>\n",
       "</div>"
      ],
      "text/plain": [
       "        stock_price  strike_price      maturity  risk_free_rate         sigma  \\\n",
       "count  1.222452e+06  1.222452e+06  1.222452e+06    1.222452e+06  1.222452e+06   \n",
       "mean   1.297920e-15 -1.399374e-16 -1.112979e-15   -2.103291e-15  1.401682e-15   \n",
       "std    1.000000e+00  1.000000e+00  1.000000e+00    1.000000e+00  1.000000e+00   \n",
       "min   -1.651488e+00 -1.707533e+00 -1.651447e+00   -1.414344e+00 -1.527611e+00   \n",
       "25%   -8.257595e-01 -8.661821e-01 -8.257010e-01   -7.072452e-01 -6.547270e-01   \n",
       "50%   -3.134175e-05  2.466045e-02  4.512230e-05   -1.463419e-04  2.181567e-01   \n",
       "75%    8.256968e-01  8.660118e-01  8.257912e-01    7.069525e-01  1.091040e+00   \n",
       "max    1.651425e+00  1.707363e+00  1.651537e+00    1.414051e+00  1.527482e+00   \n",
       "\n",
       "       option_price  \n",
       "count  1.222452e+06  \n",
       "mean  -1.420584e-16  \n",
       "std    1.000000e+00  \n",
       "min   -1.157175e+00  \n",
       "25%   -8.881225e-01  \n",
       "50%   -2.134170e-01  \n",
       "75%    6.910842e-01  \n",
       "max    3.264956e+00  "
      ]
     },
     "execution_count": 175,
     "metadata": {},
     "output_type": "execute_result"
    }
   ],
   "source": [
    "# All variables now have 0 mean and std.dev 1\n",
    "train_std.describe()"
   ]
  },
  {
   "cell_type": "code",
   "execution_count": 179,
   "id": "8c09817f",
   "metadata": {},
   "outputs": [],
   "source": [
    "# Dataframes with Xs and ys\n",
    "X_train = train_std.drop(['option_price'], axis = 1)\n",
    "X_test = test_std.drop(['option_price'], axis = 1)\n",
    "y_train = train['option_price']\n",
    "y_test = test['option_price']"
   ]
  },
  {
   "cell_type": "code",
   "execution_count": 18,
   "id": "09d0a92b",
   "metadata": {},
   "outputs": [],
   "source": [
    "# Netz bauen, noch kein finetuning\n",
    "model = tf.keras.models.Sequential([\n",
    "    tf.keras.layers.InputLayer(input_shape = (5,)), # Anzahl Features\n",
    "    tf.keras.layers.Dense(units = 1000, activation = 'elu'),\n",
    "    tf.keras.layers.Dropout(rate = 0.25),\n",
    "    tf.keras.layers.Dense(units = 800, activation = 'elu'),\n",
    "    tf.keras.layers.Dropout(rate = 0.25),\n",
    "    tf.keras.layers.Dense(units = 600, activation = 'elu'),\n",
    "    tf.keras.layers.Dropout(rate = 0.25),\n",
    "    tf.keras.layers.Dense(units = 64, activation = 'elu'),\n",
    "    tf.keras.layers.Dropout(rate = 0.25),\n",
    "    tf.keras.layers.Dense(units = 1, activation = 'elu')\n",
    "])\n",
    "model.compile(loss='mse',optimizer='adam')"
   ]
  },
  {
   "cell_type": "code",
   "execution_count": 19,
   "id": "4513e0ec",
   "metadata": {},
   "outputs": [
    {
     "name": "stdout",
     "output_type": "stream",
     "text": [
      "Model: \"sequential\"\n",
      "_________________________________________________________________\n",
      "Layer (type)                 Output Shape              Param #   \n",
      "=================================================================\n",
      "dense (Dense)                (None, 1000)              6000      \n",
      "_________________________________________________________________\n",
      "dropout (Dropout)            (None, 1000)              0         \n",
      "_________________________________________________________________\n",
      "dense_1 (Dense)              (None, 800)               800800    \n",
      "_________________________________________________________________\n",
      "dropout_1 (Dropout)          (None, 800)               0         \n",
      "_________________________________________________________________\n",
      "dense_2 (Dense)              (None, 600)               480600    \n",
      "_________________________________________________________________\n",
      "dropout_2 (Dropout)          (None, 600)               0         \n",
      "_________________________________________________________________\n",
      "dense_3 (Dense)              (None, 64)                38464     \n",
      "_________________________________________________________________\n",
      "dropout_3 (Dropout)          (None, 64)                0         \n",
      "_________________________________________________________________\n",
      "dense_4 (Dense)              (None, 1)                 65        \n",
      "=================================================================\n",
      "Total params: 1,325,929\n",
      "Trainable params: 1,325,929\n",
      "Non-trainable params: 0\n",
      "_________________________________________________________________\n"
     ]
    }
   ],
   "source": [
    "model.summary()"
   ]
  },
  {
   "cell_type": "code",
   "execution_count": 21,
   "id": "c2d24e2f",
   "metadata": {},
   "outputs": [
    {
     "name": "stdout",
     "output_type": "stream",
     "text": [
      "Epoch 1/3\n",
      "14029/14029 [==============================] - 356s 25ms/step - loss: 1.8503 - val_loss: 0.1151\n",
      "Epoch 2/3\n",
      "14029/14029 [==============================] - 404s 29ms/step - loss: 1.4303 - val_loss: 0.2295\n",
      "Epoch 3/3\n",
      "14029/14029 [==============================] - 417s 30ms/step - loss: 1.2823 - val_loss: 0.1271\n"
     ]
    }
   ],
   "source": [
    "history = model.fit(X_train_std, y_train, validation_split=0.1, batch_size = 200, epochs = 3)\n",
    "# missing callback"
   ]
  },
  {
   "cell_type": "code",
   "execution_count": 30,
   "id": "01d9aa96",
   "metadata": {},
   "outputs": [],
   "source": [
    "y_hat = model.predict(x_test)\n",
    "#y_hat = np.squeeze(y_hat)"
   ]
  },
  {
   "cell_type": "code",
   "execution_count": 31,
   "id": "ae8b551b",
   "metadata": {},
   "outputs": [
    {
     "data": {
      "text/plain": [
       "array([[-1.],\n",
       "       [-1.],\n",
       "       [-1.],\n",
       "       ...,\n",
       "       [-1.],\n",
       "       [-1.],\n",
       "       [-1.]], dtype=float32)"
      ]
     },
     "execution_count": 31,
     "metadata": {},
     "output_type": "execute_result"
    }
   ],
   "source": [
    "y_hat"
   ]
  },
  {
   "cell_type": "code",
   "execution_count": 32,
   "id": "a652abec",
   "metadata": {},
   "outputs": [],
   "source": [
    "def CheckAccuracy(y,y_hat):\n",
    "    stats = dict()\n",
    "    \n",
    "    stats['diff'] = y - y_hat\n",
    "    \n",
    "    stats['mse'] = np.mean(stats['diff']**2)\n",
    "    print(\"Mean Squared Error:      \", stats['mse'])\n",
    "    \n",
    "    stats['rmse'] = np.sqrt(stats['mse'])\n",
    "    print(\"Root Mean Squared Error: \", stats['rmse'])\n",
    "    \n",
    "    stats['mae'] = np.mean(abs(stats['diff']))\n",
    "    print(\"Mean Absolute Error:     \", stats['mae'])\n",
    "    \n",
    "    stats['mpe'] = np.sqrt(stats['mse'])/np.mean(y)\n",
    "    print(\"Mean Percent Error:      \", stats['mpe'])\n",
    "    \n",
    "    #plots\n",
    "    plt.rcParams['agg.path.chunksize'] = 100000\n",
    "    plt.figure(figsize=(14,10))\n",
    "    plt.scatter(y, y_hat,color='black',linewidth=0.3,alpha=0.4, s=0.5)\n",
    "    plt.xlabel('Actual Price',fontsize=20,fontname='Times New Roman')\n",
    "    plt.ylabel('Predicted Price',fontsize=20,fontname='Times New Roman') \n",
    "    plt.show()\n",
    "    \n",
    "    plt.figure(figsize=(14,10))\n",
    "    plt.hist(stats['diff'], bins=50,edgecolor='black',color='white')\n",
    "    plt.xlabel('Diff')\n",
    "    plt.ylabel('Density')\n",
    "    plt.show()\n",
    "    \n",
    "    return stats"
   ]
  },
  {
   "cell_type": "code",
   "execution_count": null,
   "id": "8357fbbd",
   "metadata": {},
   "outputs": [],
   "source": [
    "CheckAccuracy(y_test,y_hat)"
   ]
  }
 ],
 "metadata": {
  "kernelspec": {
   "display_name": "Python 3 (ipykernel)",
   "language": "python",
   "name": "python3"
  },
  "language_info": {
   "codemirror_mode": {
    "name": "ipython",
    "version": 3
   },
   "file_extension": ".py",
   "mimetype": "text/x-python",
   "name": "python",
   "nbconvert_exporter": "python",
   "pygments_lexer": "ipython3",
   "version": "3.9.7"
  }
 },
 "nbformat": 4,
 "nbformat_minor": 5
}
